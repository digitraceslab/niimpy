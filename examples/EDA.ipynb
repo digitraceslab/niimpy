{
 "cells": [
  {
   "cell_type": "markdown",
   "metadata": {},
   "source": [
    "# DEMO: Exploratory Data Analysis (EDA) module functionalities\n",
    "\n",
    "This notebook provides a demo of how to utilise the EDA module.\n",
    "Things to present:\n",
    "- categorical data\n",
    "- countplot\n",
    "- lineplot\n",
    "- missingness\n",
    "- punchcard"
   ]
  },
  {
   "cell_type": "code",
   "execution_count": 2,
   "metadata": {},
   "outputs": [
    {
     "ename": "ModuleNotFoundError",
     "evalue": "No module named 'niimpy.survey'",
     "output_type": "error",
     "traceback": [
      "\u001b[1;31m---------------------------------------------------------------------------\u001b[0m",
      "\u001b[1;31mModuleNotFoundError\u001b[0m                       Traceback (most recent call last)",
      "\u001b[1;32m~\\AppData\\Local\\Temp/ipykernel_4980/476045186.py\u001b[0m in \u001b[0;36m<module>\u001b[1;34m\u001b[0m\n\u001b[0;32m      6\u001b[0m \u001b[1;32mimport\u001b[0m \u001b[0mniimpy\u001b[0m\u001b[1;33m\u001b[0m\u001b[1;33m\u001b[0m\u001b[0m\n\u001b[0;32m      7\u001b[0m \u001b[1;33m\u001b[0m\u001b[0m\n\u001b[1;32m----> 8\u001b[1;33m \u001b[1;32mfrom\u001b[0m \u001b[0mniimpy\u001b[0m\u001b[1;33m.\u001b[0m\u001b[0msurvey\u001b[0m \u001b[1;32mimport\u001b[0m \u001b[1;33m*\u001b[0m\u001b[1;33m\u001b[0m\u001b[1;33m\u001b[0m\u001b[0m\n\u001b[0m\u001b[0;32m      9\u001b[0m \u001b[1;32mfrom\u001b[0m \u001b[0mniimpy\u001b[0m\u001b[1;33m.\u001b[0m\u001b[0mEDA\u001b[0m \u001b[1;32mimport\u001b[0m \u001b[0mEDA_categorical\u001b[0m\u001b[1;33m,\u001b[0m \u001b[0mEDA_countplot\u001b[0m\u001b[1;33m,\u001b[0m \u001b[0mEDA_lineplot\u001b[0m\u001b[1;33m,\u001b[0m \u001b[0mEDA_missingness\u001b[0m\u001b[1;33m,\u001b[0m \u001b[0mEDA_punchcard\u001b[0m\u001b[1;33m\u001b[0m\u001b[1;33m\u001b[0m\u001b[0m\n",
      "\u001b[1;31mModuleNotFoundError\u001b[0m: No module named 'niimpy.survey'"
     ]
    }
   ],
   "source": [
    "import sys\n",
    "sys.path.append('../')\n",
    "\n",
    "import numpy as np\n",
    "import pandas as pd\n",
    "import niimpy\n",
    "\n",
    "from niimpy.survey import *\n",
    "from niimpy.EDA import EDA_categorical, EDA_countplot, EDA_lineplot, EDA_missingness, EDA_punchcard\n"
   ]
  },
  {
   "cell_type": "markdown",
   "metadata": {},
   "source": [
    "## 1) Categorical plot"
   ]
  },
  {
   "cell_type": "markdown",
   "metadata": {},
   "source": [
    "## Load data\n",
    "We will load a mock survey data file."
   ]
  },
  {
   "cell_type": "code",
   "execution_count": null,
   "metadata": {},
   "outputs": [],
   "source": [
    "# Load a mock dataframe\n",
    "df = niimpy.read_csv('../../niimpy/sampledata/mock-survey.csv',tz='Europe/Helsinki')\n",
    "df.head()\n"
   ]
  },
  {
   "cell_type": "code",
   "execution_count": null,
   "metadata": {},
   "outputs": [],
   "source": [
    "df.describe()"
   ]
  },
  {
   "cell_type": "markdown",
   "metadata": {},
   "source": [
    "## Preprocessing \n",
    "The dataframe's columns are raw questions from a survey. Some questions belong to a specific category, so we will annotate them with ids. The id is constructed from a prefix (the questionnaire category: GAD, PHQ, PSQI etc.), followed by the question number (1,2,3). Similarly, we will also the answers to meaningful numerical values.\n",
    "\n",
    "**Note:** It's important that the dataframe follows the below schema before passing into niimpy."
   ]
  },
  {
   "cell_type": "code",
   "execution_count": null,
   "metadata": {},
   "outputs": [],
   "source": [
    "# Convert column name to id, based on provided mappers from niimpy\n",
    "col_id = {**PHQ2_MAP, **PSQI_MAP, **PSS10_MAP, **PANAS_MAP, **GAD2_MAP}\n",
    "selected_cols = [col for col in df.columns if col in col_id.keys()]\n",
    "\n",
    "# Convert data frame to long format\n",
    "m_df = pd.melt(df, id_vars=['user', 'age', 'gender'], value_vars=selected_cols, var_name='question', value_name='answer')\n",
    "\n",
    "# Assign questions to codes \n",
    "m_df['id'] = m_df['question'].replace(col_id)\n",
    "m_df.head()"
   ]
  },
  {
   "cell_type": "markdown",
   "metadata": {},
   "source": [
    "We can use a helper method to convert the answers into numerical value. The pre-defined mapper inside survey.py would be useful for this step."
   ]
  },
  {
   "cell_type": "code",
   "execution_count": null,
   "metadata": {},
   "outputs": [],
   "source": [
    "# Transform raw answers to numerical values\n",
    "m_df['answer'] = niimpy.survey.convert_to_numerical_answer(m_df, answer_col = 'answer',\n",
    "                                question_id = 'id', id_map=ID_MAP_PREFIX, use_prefix=True)\n",
    "m_df.head()"
   ]
  },
  {
   "cell_type": "markdown",
   "metadata": {},
   "source": [
    "We can also produce a summary of the questionaire's score. This function can describe aggregated score over the whole population, or specific subgroups."
   ]
  },
  {
   "cell_type": "code",
   "execution_count": null,
   "metadata": {},
   "outputs": [],
   "source": [
    "d = niimpy.survey.print_statistic(m_df)\n",
    "pd.DataFrame(d)"
   ]
  },
  {
   "cell_type": "code",
   "execution_count": null,
   "metadata": {},
   "outputs": [],
   "source": [
    "d = niimpy.survey.print_statistic(m_df, group='gender')\n",
    "pd.DataFrame(d)"
   ]
  },
  {
   "cell_type": "code",
   "execution_count": null,
   "metadata": {},
   "outputs": [],
   "source": [
    "d = niimpy.survey.print_statistic(m_df, group='gender', prefix='PHQ')\n",
    "pd.DataFrame(d)\n",
    "\n",
    "## TODO: Add a method to categorize score into levels\n",
    "## TODO: Extend to demographics info"
   ]
  },
  {
   "cell_type": "markdown",
   "metadata": {},
   "source": [
    "## Visualization\n",
    "\n",
    "We can now make some plots for the preprocessed data frame. First, we can display the summary for a specific question."
   ]
  },
  {
   "cell_type": "code",
   "execution_count": null,
   "metadata": {},
   "outputs": [],
   "source": [
    "fig = niimpy.EDA.EDA_categorical.questionnaire_summary(m_df, question = 'PHQ2_1', column = 'answer', \n",
    "                                                       title='PHQ2_1', xlabel='value', ylabel='count', \n",
    "                                                       width=600, height=400)\n",
    "fig.show()"
   ]
  },
  {
   "cell_type": "markdown",
   "metadata": {},
   "source": [
    "We can also display the summary for each subgroup."
   ]
  },
  {
   "cell_type": "code",
   "execution_count": null,
   "metadata": {},
   "outputs": [],
   "source": [
    "fig = niimpy.EDA.EDA_categorical.questionnaire_grouped_summary(m_df, question='PSS10_9', group='gender', \n",
    "                                                               title='PSS10_9',\n",
    "                                                               xlabel='score', ylabel='count',\n",
    "                                                               width=800, height=400)\n",
    "fig.show()"
   ]
  },
  {
   "cell_type": "markdown",
   "metadata": {},
   "source": [
    "With some quick preprocessing, we can display the score distribution of each questionaire."
   ]
  },
  {
   "cell_type": "code",
   "execution_count": null,
   "metadata": {},
   "outputs": [],
   "source": [
    "pss_sum_df = m_df[m_df['id'].str.startswith('PSS')] \\\n",
    "                            .groupby(['user', 'gender']) \\\n",
    "                            .agg({'answer':sum}) \\\n",
    "                            .reset_index()\n",
    "pss_sum_df['id'] = 'PSS'\n",
    "fig = niimpy.EDA.EDA_categorical.questionnaire_grouped_summary(pss_sum_df, question='PSS', group='gender', \n",
    "                                                               title='PSS10',\n",
    "                                                               xlabel='score', ylabel='count',\n",
    "                                                               width=800, height=400)\n",
    "fig.show()"
   ]
  },
  {
   "cell_type": "markdown",
   "metadata": {},
   "source": [
    "## 2) Countplot"
   ]
  },
  {
   "cell_type": "code",
   "execution_count": null,
   "metadata": {},
   "outputs": [],
   "source": [
    "df_battery = niimpy.read_csv('../../niimpy/sampledata/multiuser_AwareScreen.csv',tz='Europe/Helsinki')\n",
    "df_battery.head()"
   ]
  },
  {
   "cell_type": "code",
   "execution_count": null,
   "metadata": {},
   "outputs": [],
   "source": [
    "import sqlite3\n",
    "con = sqlite3.connect('../../niimpy/sampledata/multiuser.sqlite3')\n",
    "cursor = con.cursor()\n",
    "cursor.execute(\"SELECT name FROM sqlite_master WHERE type='table';\")\n",
    "print(cursor.fetchall())"
   ]
  },
  {
   "cell_type": "code",
   "execution_count": null,
   "metadata": {},
   "outputs": [],
   "source": [
    "df_battery = niimpy.read_sqlite('../../niimpy/sampledata/multiuser.sqlite3','AwareBattery',tz='Europe/Helsinki')\n",
    "df_battery.head()"
   ]
  },
  {
   "cell_type": "code",
   "execution_count": null,
   "metadata": {},
   "outputs": [],
   "source": [
    "EDA_countplot.EDA_countplot(df_battery, \n",
    "              fig_title = 'Battery event counts by user', \n",
    "              plot_type = 'count', \n",
    "              points = 'all',\n",
    "              aggregation = 'user', \n",
    "              user = None, \n",
    "              column='battery_level')"
   ]
  },
  {
   "cell_type": "code",
   "execution_count": null,
   "metadata": {},
   "outputs": [],
   "source": []
  }
 ],
 "metadata": {
  "kernelspec": {
   "display_name": "Python 3 (ipykernel)",
   "language": "python",
   "name": "python3"
  },
  "language_info": {
   "codemirror_mode": {
    "name": "ipython",
    "version": 3
   },
   "file_extension": ".py",
   "mimetype": "text/x-python",
   "name": "python",
   "nbconvert_exporter": "python",
   "pygments_lexer": "ipython3",
   "version": "3.7.11"
  }
 },
 "nbformat": 4,
 "nbformat_minor": 4
}
