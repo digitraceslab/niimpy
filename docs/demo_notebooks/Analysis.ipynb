{
 "cells": [
  {
   "cell_type": "markdown",
   "metadata": {},
   "source": [
    "# Analysis"
   ]
  },
  {
   "cell_type": "markdown",
   "metadata": {},
   "source": [
    "## Social Signature\n",
    "\n",
    "We can calculate a social signature from email activity. First we'll load the example email data from the sample data."
   ]
  },
  {
   "cell_type": "code",
   "execution_count": 5,
   "metadata": {},
   "outputs": [
    {
     "name": "stderr",
     "output_type": "stream",
     "text": [
      "/u/24/rantahj1/unix/src/niimpy/niimpy/reading/google_takeout.py:489: UserWarning: Could not parse message timestamp: 2023-12-15 12:19:43+00:00\n",
      "  warnings.warn(f\"Could not parse message timestamp: {received}\")\n",
      "/u/24/rantahj1/unix/src/niimpy/niimpy/reading/google_takeout.py:503: UserWarning: Failed to format received time: Sat, 15 DeNot a timec 2023 12:19:43 0000\n",
      "  warnings.warn(f\"Failed to format received time: {received}\")\n"
     ]
    }
   ],
   "source": [
    "import os\n",
    "import niimpy\n",
    "from niimpy import config\n",
    "\n",
    "path = os.path.join(config.GOOGLE_TAKEOUT_DIR, \"Takeout\", \"Mail\", \"All mail Including Spam and Trash.mbox\")\n",
    "data = niimpy.reading.google_takeout.email_activity(path, sentiment=False)"
   ]
  },
  {
   "cell_type": "markdown",
   "metadata": {},
   "source": [
    "Email data contains a \"to\" and and a \"from\" column. This data is\n",
    "pseudonymized: the email addresses are replaced by integer ids.\n",
    "The user is represented as ID 0."
   ]
  },
  {
   "cell_type": "code",
   "execution_count": 6,
   "metadata": {},
   "outputs": [
    {
     "data": {
      "text/html": [
       "<div>\n",
       "<style scoped>\n",
       "    .dataframe tbody tr th:only-of-type {\n",
       "        vertical-align: middle;\n",
       "    }\n",
       "\n",
       "    .dataframe tbody tr th {\n",
       "        vertical-align: top;\n",
       "    }\n",
       "\n",
       "    .dataframe thead th {\n",
       "        text-align: right;\n",
       "    }\n",
       "</style>\n",
       "<table border=\"1\" class=\"dataframe\">\n",
       "  <thead>\n",
       "    <tr style=\"text-align: right;\">\n",
       "      <th></th>\n",
       "      <th>from</th>\n",
       "      <th>to</th>\n",
       "    </tr>\n",
       "    <tr>\n",
       "      <th>timestamp</th>\n",
       "      <th></th>\n",
       "      <th></th>\n",
       "    </tr>\n",
       "  </thead>\n",
       "  <tbody>\n",
       "    <tr>\n",
       "      <th>2023-12-15 12:19:43+00:00</th>\n",
       "      <td>0</td>\n",
       "      <td>[1]</td>\n",
       "    </tr>\n",
       "    <tr>\n",
       "      <th>2023-12-15 12:29:43+00:00</th>\n",
       "      <td>0</td>\n",
       "      <td>[5, 1]</td>\n",
       "    </tr>\n",
       "    <tr>\n",
       "      <th>2023-12-15 12:29:43+00:00</th>\n",
       "      <td>0</td>\n",
       "      <td>[5, 1]</td>\n",
       "    </tr>\n",
       "    <tr>\n",
       "      <th>2023-12-15 12:39:43+00:00</th>\n",
       "      <td>5</td>\n",
       "      <td>[0]</td>\n",
       "    </tr>\n",
       "    <tr>\n",
       "      <th>2023-12-15 12:39:43+00:00</th>\n",
       "      <td>5</td>\n",
       "      <td>[0]</td>\n",
       "    </tr>\n",
       "  </tbody>\n",
       "</table>\n",
       "</div>"
      ],
      "text/plain": [
       "                           from      to\n",
       "timestamp                              \n",
       "2023-12-15 12:19:43+00:00     0     [1]\n",
       "2023-12-15 12:29:43+00:00     0  [5, 1]\n",
       "2023-12-15 12:29:43+00:00     0  [5, 1]\n",
       "2023-12-15 12:39:43+00:00     5     [0]\n",
       "2023-12-15 12:39:43+00:00     5     [0]"
      ]
     },
     "execution_count": 6,
     "metadata": {},
     "output_type": "execute_result"
    }
   ],
   "source": [
    "data[[\"from\", \"to\"]]"
   ]
  },
  {
   "cell_type": "code",
   "execution_count": 8,
   "metadata": {},
   "outputs": [
    {
     "data": {
      "text/plain": [
       "to\n",
       "1    0.6\n",
       "5    0.4\n",
       "dtype: float64"
      ]
     },
     "execution_count": 8,
     "metadata": {},
     "output_type": "execute_result"
    }
   ],
   "source": [
    "import niimpy.analysis.social_signature\n",
    "\n",
    "\n",
    "niimpy.analysis.social_signature.social_signature(data)"
   ]
  }
 ],
 "metadata": {
  "kernelspec": {
   "display_name": "niimpy",
   "language": "python",
   "name": "python3"
  },
  "language_info": {
   "codemirror_mode": {
    "name": "ipython",
    "version": 3
   },
   "file_extension": ".py",
   "mimetype": "text/x-python",
   "name": "python",
   "nbconvert_exporter": "python",
   "pygments_lexer": "ipython3",
   "version": "3.12.3"
  }
 },
 "nbformat": 4,
 "nbformat_minor": 2
}
