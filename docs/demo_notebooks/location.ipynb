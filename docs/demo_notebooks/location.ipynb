{
 "cells": [
  {
   "cell_type": "markdown",
   "id": "47b843fb",
   "metadata": {},
   "source": [
    "# Demo notebook for analysing location data"
   ]
  },
  {
   "cell_type": "markdown",
   "id": "7834ba9c",
   "metadata": {},
   "source": [
    "## Introduction\n",
    "\n",
    "GPS location data contain rich information about people's behavioral and mobility patterns. However, working with such data is a challenging task since there exists a lot of noise and missingness. Also, designing relevant features to gain knowledge about the mobility pattern of subjects is a crucial task. To address these problems, `niimpy` provides these main functions to clean, downsample, and extract features from GPS location data:\n",
    "\n",
    "- `niimpy.preprocessing.location.filter_location`: removes low-quality location data points\n",
    "- `niimpy.util.aggregate`: downsamples data points to reduce noise\n",
    "- `niimpy.preprocessing.location.extract_features_location`: feature extraction from location data\n",
    "\n",
    "In the following, we go through analysing a subset of location data provided in [StudentLife](https://studentlife.cs.dartmouth.edu/dataset.html) dataset."
   ]
  },
  {
   "cell_type": "markdown",
   "id": "acf896ca",
   "metadata": {},
   "source": [
    "## Read data"
   ]
  },
  {
   "cell_type": "code",
   "execution_count": 1,
   "id": "48d34157",
   "metadata": {},
   "outputs": [],
   "source": [
    "import niimpy\n",
    "from niimpy import config\n",
    "import niimpy.preprocessing.location as nilo\n",
    "import warnings\n",
    "warnings.filterwarnings(\"ignore\")"
   ]
  },
  {
   "cell_type": "code",
   "execution_count": 2,
   "id": "2aaabde5",
   "metadata": {},
   "outputs": [
    {
     "data": {
      "text/plain": [
       "(9857, 6)"
      ]
     },
     "execution_count": 2,
     "metadata": {},
     "output_type": "execute_result"
    }
   ],
   "source": [
    "data = niimpy.read_csv(config.GPS_PATH, tz='Europe/Helsinki')\n",
    "data.shape"
   ]
  },
  {
   "cell_type": "markdown",
   "id": "521bb82a",
   "metadata": {},
   "source": [
    "There are 9857 location datapoints with 6 columns in the dataset. Let us have a quick look at the data:"
   ]
  },
  {
   "cell_type": "code",
   "execution_count": 3,
   "id": "146f5533",
   "metadata": {},
   "outputs": [
    {
     "data": {
      "text/html": [
       "<div>\n",
       "<style scoped>\n",
       "    .dataframe tbody tr th:only-of-type {\n",
       "        vertical-align: middle;\n",
       "    }\n",
       "\n",
       "    .dataframe tbody tr th {\n",
       "        vertical-align: top;\n",
       "    }\n",
       "\n",
       "    .dataframe thead th {\n",
       "        text-align: right;\n",
       "    }\n",
       "</style>\n",
       "<table border=\"1\" class=\"dataframe\">\n",
       "  <thead>\n",
       "    <tr style=\"text-align: right;\">\n",
       "      <th></th>\n",
       "      <th>time</th>\n",
       "      <th>double_latitude</th>\n",
       "      <th>double_longitude</th>\n",
       "      <th>double_speed</th>\n",
       "      <th>user</th>\n",
       "      <th>datetime</th>\n",
       "    </tr>\n",
       "  </thead>\n",
       "  <tbody>\n",
       "    <tr>\n",
       "      <th>2013-03-27 06:03:29+02:00</th>\n",
       "      <td>1364357009</td>\n",
       "      <td>43.706667</td>\n",
       "      <td>-72.289097</td>\n",
       "      <td>0.00</td>\n",
       "      <td>gps_u01</td>\n",
       "      <td>2013-03-27 06:03:29+02:00</td>\n",
       "    </tr>\n",
       "    <tr>\n",
       "      <th>2013-03-27 06:23:29+02:00</th>\n",
       "      <td>1364358209</td>\n",
       "      <td>43.706637</td>\n",
       "      <td>-72.289066</td>\n",
       "      <td>0.00</td>\n",
       "      <td>gps_u01</td>\n",
       "      <td>2013-03-27 06:23:29+02:00</td>\n",
       "    </tr>\n",
       "    <tr>\n",
       "      <th>2013-03-27 06:43:25+02:00</th>\n",
       "      <td>1364359405</td>\n",
       "      <td>43.706678</td>\n",
       "      <td>-72.289018</td>\n",
       "      <td>0.25</td>\n",
       "      <td>gps_u01</td>\n",
       "      <td>2013-03-27 06:43:25+02:00</td>\n",
       "    </tr>\n",
       "    <tr>\n",
       "      <th>2013-03-27 07:03:29+02:00</th>\n",
       "      <td>1364360609</td>\n",
       "      <td>43.706665</td>\n",
       "      <td>-72.289087</td>\n",
       "      <td>0.00</td>\n",
       "      <td>gps_u01</td>\n",
       "      <td>2013-03-27 07:03:29+02:00</td>\n",
       "    </tr>\n",
       "    <tr>\n",
       "      <th>2013-03-27 07:23:25+02:00</th>\n",
       "      <td>1364361805</td>\n",
       "      <td>43.706808</td>\n",
       "      <td>-72.289370</td>\n",
       "      <td>0.00</td>\n",
       "      <td>gps_u01</td>\n",
       "      <td>2013-03-27 07:23:25+02:00</td>\n",
       "    </tr>\n",
       "  </tbody>\n",
       "</table>\n",
       "</div>"
      ],
      "text/plain": [
       "                                 time  double_latitude  double_longitude  \\\n",
       "2013-03-27 06:03:29+02:00  1364357009        43.706667        -72.289097   \n",
       "2013-03-27 06:23:29+02:00  1364358209        43.706637        -72.289066   \n",
       "2013-03-27 06:43:25+02:00  1364359405        43.706678        -72.289018   \n",
       "2013-03-27 07:03:29+02:00  1364360609        43.706665        -72.289087   \n",
       "2013-03-27 07:23:25+02:00  1364361805        43.706808        -72.289370   \n",
       "\n",
       "                           double_speed     user                  datetime  \n",
       "2013-03-27 06:03:29+02:00          0.00  gps_u01 2013-03-27 06:03:29+02:00  \n",
       "2013-03-27 06:23:29+02:00          0.00  gps_u01 2013-03-27 06:23:29+02:00  \n",
       "2013-03-27 06:43:25+02:00          0.25  gps_u01 2013-03-27 06:43:25+02:00  \n",
       "2013-03-27 07:03:29+02:00          0.00  gps_u01 2013-03-27 07:03:29+02:00  \n",
       "2013-03-27 07:23:25+02:00          0.00  gps_u01 2013-03-27 07:23:25+02:00  "
      ]
     },
     "execution_count": 3,
     "metadata": {},
     "output_type": "execute_result"
    }
   ],
   "source": [
    "data.head()"
   ]
  },
  {
   "cell_type": "markdown",
   "id": "86e7396c",
   "metadata": {},
   "source": [
    "The necessary columns for further analysis are `double_latitude`, `double_longitude`, `double_speed`, and `user`. `user` refers to a unique identifier for a subject."
   ]
  },
  {
   "cell_type": "markdown",
   "id": "fe601920",
   "metadata": {},
   "source": [
    "## Filter data"
   ]
  },
  {
   "cell_type": "markdown",
   "id": "4b7e09e0",
   "metadata": {},
   "source": [
    "Three different methods for filtering low-quality data points are implemented in `niimpy`:\n",
    "\n",
    "- `remove_disabled`: removes data points whose `disabled` column is `True`.\n",
    "- `remove_network`: removes data points whose `provider` column is `network`. This method keeps only `gps`-derived data points.\n",
    "- `remove_zeros`: removes data points close to the point \\<lat=0, lon=0\\>."
   ]
  },
  {
   "cell_type": "code",
   "execution_count": 4,
   "id": "a96bdaa6",
   "metadata": {},
   "outputs": [
    {
     "data": {
      "text/plain": [
       "(9857, 6)"
      ]
     },
     "execution_count": 4,
     "metadata": {},
     "output_type": "execute_result"
    }
   ],
   "source": [
    "data = nilo.filter_location(data, remove_disabled=False, remove_network=False, remove_zeros=True)\n",
    "data.shape"
   ]
  },
  {
   "cell_type": "markdown",
   "id": "224df8a5",
   "metadata": {},
   "source": [
    "There is no such data points in this dataset; therefore the dataset does not change after this step and the number of datapoints remains the same."
   ]
  },
  {
   "cell_type": "markdown",
   "id": "c09e1ddc",
   "metadata": {},
   "source": [
    "## Downsample"
   ]
  },
  {
   "cell_type": "markdown",
   "id": "dfce64a6",
   "metadata": {},
   "source": [
    "Because GPS records are not always very accurate and they have random errors, it is a good practice to downsample or aggregate data points which are recorded in close time windows. In other words, all the records in the same time window are aggregated to form one GPS record associated to that time window. There are a few parameters to adjust the aggregation setting:\n",
    "\n",
    "- `freq`: represents the length of time window. This parameter follows the formatting of the pandas [time offset aliases](https://pandas.pydata.org/docs/user_guide/timeseries.html#timeseries-offset-aliases) function. For example '5T' means 5 minute intervals.\n",
    "- `method_numerical`: specifies how numerical columns should be aggregated. Options are 'mean', 'median', 'sum'.\n",
    "- `method_categorical`: specifies how categorical columns should be aggregated. Options are 'first', 'mode' (most frequent), 'last'.\n",
    "\n",
    "The aggregation is performed for each `user` (subject) separately."
   ]
  },
  {
   "cell_type": "code",
   "execution_count": 5,
   "id": "01aefd90",
   "metadata": {},
   "outputs": [
    {
     "data": {
      "text/plain": [
       "(9755, 5)"
      ]
     },
     "execution_count": 5,
     "metadata": {},
     "output_type": "execute_result"
    }
   ],
   "source": [
    "binned_data = niimpy.util.aggregate(data, freq='5T', method_numerical='median')\n",
    "binned_data = binned_data.reset_index(0).dropna()\n",
    "binned_data.shape"
   ]
  },
  {
   "cell_type": "markdown",
   "id": "968b2039",
   "metadata": {},
   "source": [
    "After binning, the number of datapoints (bins) reduces to 9755."
   ]
  },
  {
   "cell_type": "markdown",
   "id": "99e948dd",
   "metadata": {},
   "source": [
    "## Feature extraction"
   ]
  },
  {
   "cell_type": "markdown",
   "id": "c66b48e1",
   "metadata": {},
   "source": [
    "Here is the list of features `niimpy` extracts from location data:\n",
    "\n",
    "1. distance based features (`niimpy.preprocessing.location.location_distance_features`):\n",
    "\n",
    "| Feature         | Description |\n",
    "|--------------|-----|\n",
    "| `dist_total` |  total distance a person traveled in meters |\n",
    "| `variance`, `log_variance`      | variance is defined as sum of variance in latitudes and longitudes |\n",
    "|`speed_average`, `speed_variance`, and `speed_max`| statistics of speed (m/s). Speed, if not given, can be calculated by dividing the distance between two consequitive bins by their time difference|\n",
    "|`n_bins`|number of location bins that a user recorded in dataset|\n",
    "\n",
    "2. Significant Place related features (`niimpy.preprocessing.location.location_significant_place_features`):\n",
    " \n",
    " | Feature         | Description |\n",
    "|--------------|-----|\n",
    "|`n_static`| number of static points. Static points are defined as bins whose speed is lower than a threshold|\n",
    "|`n_moving`| number of moving points. Equivalent to `n_bins - n_static`|\n",
    "|`n_home`| number of static bins which are close to the person's home. Home is defined the place most visited during nights. More formally, all the locations recorded during 12 Am and 6 AM are clusterd and the center of largest cluster is assumed to be home|\n",
    "|`max_dist_home`| maximum distance from home|\n",
    "|`n_sps`| number of significant places. All of the static bins are clusterd using DBSCAN algorithm. Each cluster represents a Signicant Place (SP) for a user|\n",
    "|`n_rare`| number of rarely visited (referred as outliers in DBSCAN)|\n",
    "|`n_transitions`| number of transitions between significant places|\n",
    "|`n_top1`| `n_top2`, `n_top3`, `n_top4`, `n_top5`: number of bins in the top `N` cluster. In other words, `n_top1` shows the number of times the person has visited the most freqently visited place|\n",
    "|`entropy`| `normalized_entropy`: entropy of time spent in clusters. Normalized entropy is the entropy divided by the number of clusters|\n",
    "\n",
    "\n"
   ]
  },
  {
   "cell_type": "code",
   "execution_count": 6,
   "id": "5bf0185c",
   "metadata": {},
   "outputs": [
    {
     "data": {
      "text/html": [
       "<div>\n",
       "<style scoped>\n",
       "    .dataframe tbody tr th:only-of-type {\n",
       "        vertical-align: middle;\n",
       "    }\n",
       "\n",
       "    .dataframe tbody tr th {\n",
       "        vertical-align: top;\n",
       "    }\n",
       "\n",
       "    .dataframe thead th {\n",
       "        text-align: right;\n",
       "    }\n",
       "</style>\n",
       "<table border=\"1\" class=\"dataframe\">\n",
       "  <thead>\n",
       "    <tr style=\"text-align: right;\">\n",
       "      <th></th>\n",
       "      <th>n_sps</th>\n",
       "      <th>n_static</th>\n",
       "      <th>n_moving</th>\n",
       "      <th>n_rare</th>\n",
       "      <th>n_home</th>\n",
       "      <th>max_dist_home</th>\n",
       "      <th>n_transitions</th>\n",
       "      <th>n_top1</th>\n",
       "      <th>n_top2</th>\n",
       "      <th>n_top3</th>\n",
       "      <th>...</th>\n",
       "      <th>n_top5</th>\n",
       "      <th>entropy</th>\n",
       "      <th>normalized_entropy</th>\n",
       "      <th>dist_total</th>\n",
       "      <th>n_bins</th>\n",
       "      <th>speed_average</th>\n",
       "      <th>speed_variance</th>\n",
       "      <th>speed_max</th>\n",
       "      <th>variance</th>\n",
       "      <th>log_variance</th>\n",
       "    </tr>\n",
       "    <tr>\n",
       "      <th>user</th>\n",
       "      <th></th>\n",
       "      <th></th>\n",
       "      <th></th>\n",
       "      <th></th>\n",
       "      <th></th>\n",
       "      <th></th>\n",
       "      <th></th>\n",
       "      <th></th>\n",
       "      <th></th>\n",
       "      <th></th>\n",
       "      <th></th>\n",
       "      <th></th>\n",
       "      <th></th>\n",
       "      <th></th>\n",
       "      <th></th>\n",
       "      <th></th>\n",
       "      <th></th>\n",
       "      <th></th>\n",
       "      <th></th>\n",
       "      <th></th>\n",
       "      <th></th>\n",
       "    </tr>\n",
       "  </thead>\n",
       "  <tbody>\n",
       "    <tr>\n",
       "      <th>gps_u00</th>\n",
       "      <td>20</td>\n",
       "      <td>4095</td>\n",
       "      <td>152</td>\n",
       "      <td>164</td>\n",
       "      <td>2149</td>\n",
       "      <td>6.392724e+06</td>\n",
       "      <td>356</td>\n",
       "      <td>2171</td>\n",
       "      <td>1218</td>\n",
       "      <td>166</td>\n",
       "      <td>...</td>\n",
       "      <td>63</td>\n",
       "      <td>7.243337</td>\n",
       "      <td>2.417885</td>\n",
       "      <td>1.863604e+07</td>\n",
       "      <td>4247</td>\n",
       "      <td>0.289073</td>\n",
       "      <td>6.343650</td>\n",
       "      <td>34.00</td>\n",
       "      <td>184.473320</td>\n",
       "      <td>5.217505</td>\n",
       "    </tr>\n",
       "    <tr>\n",
       "      <th>gps_u01</th>\n",
       "      <td>3</td>\n",
       "      <td>5385</td>\n",
       "      <td>123</td>\n",
       "      <td>2</td>\n",
       "      <td>22</td>\n",
       "      <td>9.854291e+03</td>\n",
       "      <td>10</td>\n",
       "      <td>5372</td>\n",
       "      <td>6</td>\n",
       "      <td>5</td>\n",
       "      <td>...</td>\n",
       "      <td>0</td>\n",
       "      <td>2.339372</td>\n",
       "      <td>2.129388</td>\n",
       "      <td>2.560327e+05</td>\n",
       "      <td>5508</td>\n",
       "      <td>0.043402</td>\n",
       "      <td>0.389312</td>\n",
       "      <td>32.75</td>\n",
       "      <td>0.000011</td>\n",
       "      <td>-11.410376</td>\n",
       "    </tr>\n",
       "  </tbody>\n",
       "</table>\n",
       "<p>2 rows × 21 columns</p>\n",
       "</div>"
      ],
      "text/plain": [
       "         n_sps  n_static  n_moving  n_rare  n_home  max_dist_home  \\\n",
       "user                                                                \n",
       "gps_u00     20      4095       152     164    2149   6.392724e+06   \n",
       "gps_u01      3      5385       123       2      22   9.854291e+03   \n",
       "\n",
       "         n_transitions  n_top1  n_top2  n_top3  ...  n_top5   entropy  \\\n",
       "user                                            ...                     \n",
       "gps_u00            356    2171    1218     166  ...      63  7.243337   \n",
       "gps_u01             10    5372       6       5  ...       0  2.339372   \n",
       "\n",
       "         normalized_entropy    dist_total  n_bins  speed_average  \\\n",
       "user                                                               \n",
       "gps_u00            2.417885  1.863604e+07    4247       0.289073   \n",
       "gps_u01            2.129388  2.560327e+05    5508       0.043402   \n",
       "\n",
       "         speed_variance  speed_max    variance  log_variance  \n",
       "user                                                          \n",
       "gps_u00        6.343650      34.00  184.473320      5.217505  \n",
       "gps_u01        0.389312      32.75    0.000011    -11.410376  \n",
       "\n",
       "[2 rows x 21 columns]"
      ]
     },
     "execution_count": 6,
     "metadata": {},
     "output_type": "execute_result"
    }
   ],
   "source": [
    "import warnings\n",
    "warnings.filterwarnings('ignore', category=RuntimeWarning)\n",
    "\n",
    "# extract all the available features\n",
    "all_features = nilo.extract_features_location(binned_data)\n",
    "all_features"
   ]
  },
  {
   "cell_type": "code",
   "execution_count": 7,
   "id": "d2b2e06b",
   "metadata": {},
   "outputs": [
    {
     "data": {
      "text/html": [
       "<div>\n",
       "<style scoped>\n",
       "    .dataframe tbody tr th:only-of-type {\n",
       "        vertical-align: middle;\n",
       "    }\n",
       "\n",
       "    .dataframe tbody tr th {\n",
       "        vertical-align: top;\n",
       "    }\n",
       "\n",
       "    .dataframe thead th {\n",
       "        text-align: right;\n",
       "    }\n",
       "</style>\n",
       "<table border=\"1\" class=\"dataframe\">\n",
       "  <thead>\n",
       "    <tr style=\"text-align: right;\">\n",
       "      <th></th>\n",
       "      <th>dist_total</th>\n",
       "      <th>n_bins</th>\n",
       "      <th>speed_average</th>\n",
       "      <th>speed_variance</th>\n",
       "      <th>speed_max</th>\n",
       "      <th>variance</th>\n",
       "      <th>log_variance</th>\n",
       "    </tr>\n",
       "    <tr>\n",
       "      <th>user</th>\n",
       "      <th></th>\n",
       "      <th></th>\n",
       "      <th></th>\n",
       "      <th></th>\n",
       "      <th></th>\n",
       "      <th></th>\n",
       "      <th></th>\n",
       "    </tr>\n",
       "  </thead>\n",
       "  <tbody>\n",
       "    <tr>\n",
       "      <th>gps_u00</th>\n",
       "      <td>1.863604e+07</td>\n",
       "      <td>4247</td>\n",
       "      <td>0.289073</td>\n",
       "      <td>6.343650</td>\n",
       "      <td>34.00</td>\n",
       "      <td>184.473320</td>\n",
       "      <td>5.217505</td>\n",
       "    </tr>\n",
       "    <tr>\n",
       "      <th>gps_u01</th>\n",
       "      <td>2.560327e+05</td>\n",
       "      <td>5508</td>\n",
       "      <td>0.043402</td>\n",
       "      <td>0.389312</td>\n",
       "      <td>32.75</td>\n",
       "      <td>0.000011</td>\n",
       "      <td>-11.410376</td>\n",
       "    </tr>\n",
       "  </tbody>\n",
       "</table>\n",
       "</div>"
      ],
      "text/plain": [
       "           dist_total  n_bins  speed_average  speed_variance  speed_max  \\\n",
       "user                                                                      \n",
       "gps_u00  1.863604e+07    4247       0.289073        6.343650      34.00   \n",
       "gps_u01  2.560327e+05    5508       0.043402        0.389312      32.75   \n",
       "\n",
       "           variance  log_variance  \n",
       "user                               \n",
       "gps_u00  184.473320      5.217505  \n",
       "gps_u01    0.000011    -11.410376  "
      ]
     },
     "execution_count": 7,
     "metadata": {},
     "output_type": "execute_result"
    }
   ],
   "source": [
    "# extract only distance realted featuers\n",
    "feature_functions = {\n",
    "    nilo.location_distance_features: {} # arguments\n",
    "}\n",
    "distance_features = nilo.extract_features_location(\n",
    "    binned_data,\n",
    "    feature_functions=feature_functions)\n",
    "distance_features"
   ]
  },
  {
   "cell_type": "markdown",
   "id": "b5af300b",
   "metadata": {},
   "source": [
    "The 2 rows correspond to the 2 users present in the dataset. Each column represents a feature. For example user `gps_u00` has higher variance in speeds (`speed_variance`) and location variance (`variance`) compared to the user `gps_u01`."
   ]
  },
  {
   "cell_type": "markdown",
   "id": "8a8c4ab6",
   "metadata": {},
   "source": [
    "## Implementing your own features"
   ]
  },
  {
   "cell_type": "markdown",
   "id": "c97375ae",
   "metadata": {},
   "source": [
    "If you want to implement a customized feature you can do so with defining a function that accepts a dataframe and returns a dataframe or a series. The reterned object should be indexed by `user`s. Then, when calling `extract_features_location` function, you add the newly implemented function to the `feature_functions` argument. The default feature functions implemented in `niimpy` are in this variable:"
   ]
  },
  {
   "cell_type": "code",
   "execution_count": 8,
   "id": "e602497e",
   "metadata": {},
   "outputs": [
    {
     "data": {
      "text/plain": [
       "{<function niimpy.preprocessing.location.location_significant_place_features(df, speed_threshold=0.277, min_samples=5, eps=200)>: {},\n",
       " <function niimpy.preprocessing.location.location_distance_features(df)>: {}}"
      ]
     },
     "execution_count": 8,
     "metadata": {},
     "output_type": "execute_result"
    }
   ],
   "source": [
    "nilo.ALL_FEATURE_FUNCTIONS"
   ]
  },
  {
   "cell_type": "markdown",
   "id": "a2f91dd5",
   "metadata": {},
   "source": [
    "You can add your new function to the `nilo.ALL_FEATURE_FUNCTIONS` dictionary and call `extract_features_location` function. Or if you are interested in only extracting your desired feature you can pass a dictionary containing just that function, like here:"
   ]
  },
  {
   "cell_type": "code",
   "execution_count": 9,
   "id": "81d9d0d1",
   "metadata": {},
   "outputs": [
    {
     "data": {
      "text/html": [
       "<div>\n",
       "<style scoped>\n",
       "    .dataframe tbody tr th:only-of-type {\n",
       "        vertical-align: middle;\n",
       "    }\n",
       "\n",
       "    .dataframe tbody tr th {\n",
       "        vertical-align: top;\n",
       "    }\n",
       "\n",
       "    .dataframe thead th {\n",
       "        text-align: right;\n",
       "    }\n",
       "</style>\n",
       "<table border=\"1\" class=\"dataframe\">\n",
       "  <thead>\n",
       "    <tr style=\"text-align: right;\">\n",
       "      <th></th>\n",
       "      <th>double_speed</th>\n",
       "    </tr>\n",
       "    <tr>\n",
       "      <th>user</th>\n",
       "      <th></th>\n",
       "    </tr>\n",
       "  </thead>\n",
       "  <tbody>\n",
       "    <tr>\n",
       "      <th>gps_u00</th>\n",
       "      <td>34.00</td>\n",
       "    </tr>\n",
       "    <tr>\n",
       "      <th>gps_u01</th>\n",
       "      <td>32.75</td>\n",
       "    </tr>\n",
       "  </tbody>\n",
       "</table>\n",
       "</div>"
      ],
      "text/plain": [
       "         double_speed\n",
       "user                 \n",
       "gps_u00         34.00\n",
       "gps_u01         32.75"
      ]
     },
     "execution_count": 9,
     "metadata": {},
     "output_type": "execute_result"
    }
   ],
   "source": [
    "# customized function\n",
    "def max_speed(df):\n",
    "    grouped = df.groupby('user')\n",
    "    return grouped['double_speed'].max()\n",
    "\n",
    "customized_features = nilo.extract_features_location(\n",
    "    binned_data,\n",
    "    feature_functions={max_speed: {}}\n",
    ")\n",
    "customized_features"
   ]
  }
 ],
 "metadata": {
  "kernelspec": {
   "display_name": "Python 3 (ipykernel)",
   "language": "python",
   "name": "python3"
  },
  "language_info": {
   "codemirror_mode": {
    "name": "ipython",
    "version": 3
   },
   "file_extension": ".py",
   "mimetype": "text/x-python",
   "name": "python",
   "nbconvert_exporter": "python",
   "pygments_lexer": "ipython3",
   "version": "3.10.4"
  }
 },
 "nbformat": 4,
 "nbformat_minor": 5
}
